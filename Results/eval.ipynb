{
 "cells": [
  {
   "cell_type": "code",
   "execution_count": 3,
   "metadata": {},
   "outputs": [
    {
     "name": "stdout",
     "output_type": "stream",
     "text": [
      "Hits@1: 0.8415333333333334\n",
      "Hits@5: 0.9354666666666667\n",
      "Hits@10: 0.9554\n",
      "Hits@20: 0.9707333333333333\n",
      "Total nodes: 15000\n"
     ]
    }
   ],
   "source": [
    "import json\n",
    "import numpy as np\n",
    "\n",
    "# Load the perfect alignments from the filtered_alignments.txt file\n",
    "perfect_alignments = {}\n",
    "with open('ent_ILLs', 'r', encoding=\"utf-8\") as file:\n",
    "    for line in file:\n",
    "        uri_fr, uri_en = line.strip().split('\\t')\n",
    "        perfect_alignments[uri_en] = uri_fr\n",
    "\n",
    "# Load the similarity results from the records_result file\n",
    "with open('similar_entities_dbp15k_combined.json', 'r', encoding=\"utf-8-sig\") as file:\n",
    "    similarity_results = json.load(file)\n",
    "\n",
    "# Initialize counters for Hits@1, Hits@5, Hits@10, and Hits@20\n",
    "hits_at_1 = 0\n",
    "hits_at_5 = 0\n",
    "hits_at_10 = 0\n",
    "hits_at_20 = 0\n",
    "total_queries = len(similarity_results)\n",
    "\n",
    "# Calculate Hits@1, Hits@5, Hits@10, and Hits@20\n",
    "for result in similarity_results:\n",
    "    uri_fr = result[\"n.uri\"]\n",
    "    top_similar_nodes = result[\"topSimilarNodes\"]\n",
    "\n",
    "    if uri_fr in perfect_alignments:\n",
    "        correct_uri_en = perfect_alignments[uri_fr]\n",
    "\n",
    "        if top_similar_nodes[0][\"uri\"] == correct_uri_en:\n",
    "            hits_at_1 += 1\n",
    "\n",
    "        if any(node[\"uri\"] == correct_uri_en for node in top_similar_nodes[:5]):\n",
    "            hits_at_5 += 1\n",
    "\n",
    "        if any(node[\"uri\"] == correct_uri_en for node in top_similar_nodes[:10]):\n",
    "            hits_at_10 += 1\n",
    "\n",
    "        if any(node[\"uri\"] == correct_uri_en for node in top_similar_nodes[:20]):\n",
    "            hits_at_20 += 1\n",
    "\n",
    "# Calculate the Hits@1, Hits@5, Hits@10, and Hits@20 scores\n",
    "hits_at_1_score = hits_at_1 / total_queries\n",
    "hits_at_5_score = hits_at_5 / total_queries\n",
    "hits_at_10_score = hits_at_10 / total_queries\n",
    "hits_at_20_score = hits_at_20 / total_queries\n",
    "\n",
    "print(f\"Hits@1: {hits_at_1_score}\")\n",
    "print(f\"Hits@5: {hits_at_5_score}\")\n",
    "print(f\"Hits@10: {hits_at_10_score}\")\n",
    "print(f\"Hits@20: {hits_at_20_score}\")\n",
    "print(f\"Total nodes: {total_queries}\")"
   ]
  }
 ],
 "metadata": {
  "kernelspec": {
   "display_name": "nlp_env",
   "language": "python",
   "name": "python3"
  },
  "language_info": {
   "codemirror_mode": {
    "name": "ipython",
    "version": 3
   },
   "file_extension": ".py",
   "mimetype": "text/x-python",
   "name": "python",
   "nbconvert_exporter": "python",
   "pygments_lexer": "ipython3",
   "version": "3.8.11"
  }
 },
 "nbformat": 4,
 "nbformat_minor": 2
}
